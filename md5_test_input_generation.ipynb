{
 "cells": [
  {
   "cell_type": "code",
   "execution_count": 1,
   "metadata": {},
   "outputs": [
    {
     "name": "stdout",
     "output_type": "stream",
     "text": [
      "Random 512-bit number (decimal): 6105996453397949226923495874931324925798414959774530556503315438731759908132867977248266003549720689102880233256365657782937650521983441429490746124936858\n",
      "MD5 hash (hex): d904f213701204a4fa204aa5cb98367d\n",
      "MD5 hash (decimal): 288468154155904158903404421952247969405\n"
     ]
    }
   ],
   "source": [
    "import random\n",
    "import hashlib\n",
    "\n",
    "# Step 1: Generate a random 512-bit number\n",
    "random_512_bit_number = random.getrandbits(512)\n",
    "decimal_form = str(random_512_bit_number)\n",
    "\n",
    "# Step 2: Compute the MD5 hash of the decimal form\n",
    "md5_hash = hashlib.md5(decimal_form.encode()).hexdigest()\n",
    "\n",
    "# Step 3: Convert the MD5 hash (hex) to decimal\n",
    "md5_decimal = int(md5_hash, 16)\n",
    "\n",
    "# Print the results\n",
    "print(f\"Random 512-bit number (decimal): {decimal_form}\")\n",
    "print(f\"MD5 hash (hex): {md5_hash}\")\n",
    "print(f\"MD5 hash (decimal): {md5_decimal}\")\n"
   ]
  },
  {
   "cell_type": "code",
   "execution_count": null,
   "metadata": {},
   "outputs": [],
   "source": [
    "import random\n",
    "import hashlib\n",
    "\n",
    "# Function to generate MD5 hash of a random 512-bit number\n",
    "def generate_md5_decimal():\n",
    "    # Generate a random 512-bit number\n",
    "    random_512_bit_number = random.getrandbits(512)\n",
    "    \n",
    "    # Represent the 512-bit number as an array of 16 different 32-bit numbers\n",
    "    bit_array_32 = [(random_512_bit_number >> (32 * i)) & 0xFFFFFFFF for i in range(16)]\n",
    "    \n",
    "    # Convert the 512-bit number to its decimal string form\n",
    "    decimal_form = str(random_512_bit_number)\n",
    "    \n",
    "    # Compute the MD5 hash of the decimal form\n",
    "    md5_hash = hashlib.md5(decimal_form.encode()).hexdigest()\n",
    "    \n",
    "    # Convert the MD5 hash (hex) to decimal\n",
    "    md5_decimal = int(md5_hash, 16)\n",
    "    \n",
    "    # Represent the 128-bit MD5 hash as an array of 4 different 32-bit numbers\n",
    "    md5_bit_array_32 = [(md5_decimal >> (32 * i)) & 0xFFFFFFFF for i in range(4)]\n",
    "    \n",
    "    return bit_array_32, md5_hash, md5_bit_array_32\n",
    "\n",
    "# Generate 5 sets of inputs and outputs\n",
    "results = [generate_md5_decimal() for _ in range(5)]\n",
    "\n",
    "# Print the results\n",
    "for i, (bit_array_32, md5_hash, md5_bit_array_32) in enumerate(results):\n",
    "    print(f\"Set {i + 1}:\")\n",
    "    print(f\"Random 512-bit number as 16x32-bit array: {bit_array_32}\")\n",
    "    print(f\"MD5 hash (hex): {md5_hash}\")\n",
    "    print(f\"MD5 hash as 4x32-bit array: {md5_bit_array_32}\")\n",
    "    print()\n"
   ]
  }
 ],
 "metadata": {
  "kernelspec": {
   "display_name": "Python 3",
   "language": "python",
   "name": "python3"
  },
  "language_info": {
   "codemirror_mode": {
    "name": "ipython",
    "version": 3
   },
   "file_extension": ".py",
   "mimetype": "text/x-python",
   "name": "python",
   "nbconvert_exporter": "python",
   "pygments_lexer": "ipython3",
   "version": "3.9.6"
  }
 },
 "nbformat": 4,
 "nbformat_minor": 2
}
